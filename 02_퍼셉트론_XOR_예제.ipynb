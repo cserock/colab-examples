{
  "cells": [
    {
      "cell_type": "markdown",
      "metadata": {
        "id": "view-in-github",
        "colab_type": "text"
      },
      "source": [
        "<a href=\"https://colab.research.google.com/github/cserock/colab-examples/blob/main/02_%ED%8D%BC%EC%85%89%ED%8A%B8%EB%A1%A0_XOR_%EC%98%88%EC%A0%9C.ipynb\" target=\"_parent\"><img src=\"https://colab.research.google.com/assets/colab-badge.svg\" alt=\"Open In Colab\"/></a>"
      ]
    },
    {
      "cell_type": "markdown",
      "metadata": {
        "id": "0k6judZdX1VS"
      },
      "source": [
        "# Google Colab을 사용한 퍼셉트론으로 XOR 문제 해결 예제"
      ]
    },
    {
      "cell_type": "markdown",
      "source": [
        "## XOR 문제 구성\n",
        "- 배열 크기: (50,)  \n",
        "- 값의 범위: low 이상, high 미만  \n",
        "- 분포: 균등분포 (모든 값이 나올 확률이 같음)"
      ],
      "metadata": {
        "id": "ALf0OUUmB2hs"
      }
    },
    {
      "cell_type": "code",
      "source": [
        "### XOR 문제 구성 ###\n",
        "import numpy as np\n",
        "import matplotlib.pyplot as plt\n",
        "np.random.seed(0)\n",
        "\n",
        "x11 = np.random.uniform(low=0, high=5, size=(50,))\n",
        "x12 = np.random.uniform(low=10, high=15, size=(50,))\n",
        "x21 = np.random.uniform(low=0, high=5, size=(50,))\n",
        "x22 = np.random.uniform(low=10, high=15, size=(50,))\n",
        "\n",
        "\n",
        "\n",
        "x1 = np.append(x11, x12)\n",
        "x2 = np.append(x21, x22)\n",
        "\n",
        "y11 = np.random.uniform(low=10, high=15, size=(50,))\n",
        "y12 = np.random.uniform(low=0, high=5, size=(50,))\n",
        "y21 = np.random.uniform(low=0, high=5, size=(50,))\n",
        "y22 = np.random.uniform(low=10, high=15, size=(50,))\n",
        "\n",
        "y1 = np.append(y11, y12)\n",
        "y2 = np.append(y21, y22)\n",
        "\n",
        "x_1 = np.vstack([x1, y1]).T\n",
        "x_2 = np.vstack([x2, y2]).T\n",
        "\n",
        "y_1 = np.ones_like(x_1[:, 0])\n",
        "y_2 = np.zeros_like(x_2[:, 0])\n",
        "x = np.vstack([x_1, x_2])\n",
        "y = np.hstack([y_1, y_2])\n",
        "\n",
        "\n",
        "fig, ax = plt.subplots(figsize = (12,5))\n",
        "ax.plot(x_1[:, 0], x_1[:,1], 'bo')\n",
        "ax.plot(x_2[:,0], x_2[:,1], 'ro')\n",
        "ax.grid()\n"
      ],
      "metadata": {
        "id": "AMQ28T88Q_CF"
      },
      "execution_count": null,
      "outputs": []
    },
    {
      "cell_type": "markdown",
      "source": [
        "## XOR 문제 해결하기(단층 퍼셉트론)"
      ],
      "metadata": {
        "id": "jCRW6UzNCAnH"
      }
    },
    {
      "cell_type": "code",
      "source": [
        "### XOR 문제 해결시켜보기(단층 퍼셉트론) ###\n",
        "import tensorflow as tf\n",
        "\n",
        "model = tf.keras.models.Sequential([\n",
        "    # 한 개의 층으로만 구성\n",
        "    tf.keras.layers.Dense(1, input_dim=2, activation='sigmoid')\n",
        "])\n",
        "\n",
        "model.compile(optimizer='sgd',\n",
        "              loss='binary_crossentropy',\n",
        "              metrics=['accuracy'])\n",
        "\n",
        "model.fit(x, y, epochs=1000, verbose=1)\n",
        "\n",
        "preds = model.predict(x)\n",
        "preds_1d = preds.flatten()\n",
        "pred_class = np.where(preds_1d > 0.5, 1 , 0)\n",
        "\n",
        "y_true = x[pred_class==1]\n",
        "y_false = x[pred_class==0]\n",
        "\n",
        "fig, ax = plt.subplots(figsize = (12,5))\n",
        "ax.plot(y_true[:, 0], y_true[:,1], 'bo')\n",
        "ax.plot(y_false[:,0], y_false[:,1], 'ro')\n",
        "ax.grid()\n"
      ],
      "metadata": {
        "id": "J1LjoZRvCJyB"
      },
      "execution_count": null,
      "outputs": []
    },
    {
      "cell_type": "markdown",
      "source": [
        "## XOR 문제 해결하기(다층 퍼셉트론)"
      ],
      "metadata": {
        "id": "e8Ew97mBCh2Y"
      }
    },
    {
      "cell_type": "code",
      "source": [
        "### XOR 문제 해결시켜보기(다층 퍼셉트론) ###\n",
        "\n",
        "# 1) 모델 정의 (은닉층 활성화 함수 ReLU, 출력층 sigmoid)\n",
        "# model = tf.keras.models.Sequential([\n",
        "#     # 여러 개의 층으로 구성\n",
        "#     tf.keras.layers.Dense(8, input_dim=2, activation='sigmoid'),\n",
        "#     tf.keras.layers.Dense(1, activation='sigmoid')\n",
        "# ])\n",
        "\n",
        "# 2) 옵티마이저와 sgd 사용\n",
        "# model.compile(optimizer='sgd',\n",
        "#               loss='binary_crossentropy',\n",
        "#               metrics=['accuracy'])\n",
        "\n",
        "\n",
        "# 2) 모델 정의 (은닉층 활성화 함수 ReLU, 출력층 sigmoid)\n",
        "model = tf.keras.models.Sequential([\n",
        "    tf.keras.layers.Dense(8, input_dim=2, activation='relu'),\n",
        "    tf.keras.layers.Dense(1, activation='sigmoid')\n",
        "])\n",
        "\n",
        "# 2) 옵티마이저와 학습률 명시, 성능 향상을 위해 Adam 사용\n",
        "model.compile(optimizer=tf.keras.optimizers.Adam(learning_rate=0.01),\n",
        "              loss='binary_crossentropy',\n",
        "              metrics=['accuracy'])\n",
        "\n",
        "model.fit(x, y, epochs=1000, verbose=1)\n",
        "\n",
        "preds = model.predict(x)\n",
        "preds_1d = preds.flatten()\n",
        "pred_class = np.where(preds_1d > 0.5, 1 , 0)\n",
        "\n",
        "y_true = x[pred_class==1]\n",
        "y_false = x[pred_class==0]\n",
        "\n",
        "fig, ax = plt.subplots(figsize = (12,5))\n",
        "ax.plot(y_true[:, 0], y_true[:,1], 'bo')\n",
        "ax.plot(y_false[:,0], y_false[:,1], 'ro')\n",
        "ax.grid()"
      ],
      "metadata": {
        "id": "D0i3VSjtCnjw"
      },
      "execution_count": null,
      "outputs": []
    }
  ],
  "metadata": {
    "kernelspec": {
      "display_name": "Python 3",
      "name": "python3"
    },
    "language_info": {
      "codemirror_mode": {
        "name": "ipython",
        "version": 3
      },
      "file_extension": ".py",
      "mimetype": "text/x-python",
      "name": "python",
      "nbconvert_exporter": "python",
      "pygments_lexer": "ipython3",
      "version": "3.10.9"
    },
    "metadata": {
      "interpreter": {
        "hash": "22b0ec00cd9e253c751e6d2619fc0bb2d18ed12980de3246690d5be49479dd65"
      }
    },
    "nav_menu": {},
    "toc": {
      "navigate_menu": true,
      "number_sections": true,
      "sideBar": true,
      "threshold": 6,
      "toc_cell": false,
      "toc_section_display": "block",
      "toc_window_display": true
    },
    "toc_position": {
      "height": "616px",
      "left": "0px",
      "right": "20px",
      "top": "106px",
      "width": "213px"
    },
    "colab": {
      "provenance": [],
      "gpuType": "T4",
      "include_colab_link": true
    },
    "accelerator": "GPU"
  },
  "nbformat": 4,
  "nbformat_minor": 0
}